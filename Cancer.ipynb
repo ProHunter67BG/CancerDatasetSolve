{
  "nbformat": 4,
  "nbformat_minor": 0,
  "metadata": {
    "colab": {
      "name": "Cancer.ipynb",
      "provenance": [],
      "authorship_tag": "ABX9TyNSoXQEey3mK5rOz1peYjlg",
      "include_colab_link": true
    },
    "kernelspec": {
      "name": "python3",
      "display_name": "Python 3"
    }
  },
  "cells": [
    {
      "cell_type": "markdown",
      "metadata": {
        "id": "view-in-github",
        "colab_type": "text"
      },
      "source": [
        "<a href=\"https://colab.research.google.com/github/ProHunter67BG/CancerDatasetSolve/blob/master/Cancer.ipynb\" target=\"_parent\"><img src=\"https://colab.research.google.com/assets/colab-badge.svg\" alt=\"Open In Colab\"/></a>"
      ]
    },
    {
      "cell_type": "code",
      "metadata": {
        "id": "YiTNPr56mpOT",
        "colab_type": "code",
        "colab": {}
      },
      "source": [
        "import tensorflow as tf\n",
        "from tensorflow import keras\n",
        "import sklearn\n",
        "from sklearn import datasets\n",
        "from sklearn import model_selection\n",
        "import numpy as np\n",
        "import pandas as pd"
      ],
      "execution_count": 1,
      "outputs": []
    },
    {
      "cell_type": "code",
      "metadata": {
        "id": "nLsjRTNjmwqD",
        "colab_type": "code",
        "colab": {
          "resources": {
            "http://localhost:8080/nbextensions/google.colab/files.js": {
              "data": "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",
              "ok": true,
              "headers": [
                [
                  "content-type",
                  "application/javascript"
                ]
              ],
              "status": 200,
              "status_text": ""
            }
          },
          "base_uri": "https://localhost:8080/",
          "height": 72
        },
        "outputId": "3caf6021-fcaa-4f96-8d4d-329b840f4310"
      },
      "source": [
        "from google.colab import files\n",
        "uploaded = files.upload()\n",
        "import io\n",
        "df = pd.read_csv(io.BytesIO(uploaded['data.csv']))"
      ],
      "execution_count": 2,
      "outputs": [
        {
          "output_type": "display_data",
          "data": {
            "text/html": [
              "\n",
              "     <input type=\"file\" id=\"files-2d4bfd9e-1a04-43de-bfed-2fbb73fb09d0\" name=\"files[]\" multiple disabled\n",
              "        style=\"border:none\" />\n",
              "     <output id=\"result-2d4bfd9e-1a04-43de-bfed-2fbb73fb09d0\">\n",
              "      Upload widget is only available when the cell has been executed in the\n",
              "      current browser session. Please rerun this cell to enable.\n",
              "      </output>\n",
              "      <script src=\"/nbextensions/google.colab/files.js\"></script> "
            ],
            "text/plain": [
              "<IPython.core.display.HTML object>"
            ]
          },
          "metadata": {
            "tags": []
          }
        },
        {
          "output_type": "stream",
          "text": [
            "Saving data.csv to data.csv\n"
          ],
          "name": "stdout"
        }
      ]
    },
    {
      "cell_type": "code",
      "metadata": {
        "id": "MEkO_yNHm1DZ",
        "colab_type": "code",
        "colab": {}
      },
      "source": [
        "df = pd.read_csv(io.BytesIO(uploaded['data.csv']))\n",
        "df['diagnosis'] = pd.Categorical(df['diagnosis'])\n",
        "df['diagnosis'] = df.diagnosis.cat.codes\n",
        "df1 = df.drop('id', axis=1)\n",
        "X = df1.drop('diagnosis', axis=1)\n",
        "y = df1['diagnosis'].astype('float64')\n",
        "na_drop = X.dropna(axis=1, how='any')"
      ],
      "execution_count": 3,
      "outputs": []
    },
    {
      "cell_type": "code",
      "metadata": {
        "id": "BOC9pl-Gn5vj",
        "colab_type": "code",
        "colab": {
          "base_uri": "https://localhost:8080/",
          "height": 241
        },
        "outputId": "96e6f321-6bb8-4348-e6df-b469f2c24f47"
      },
      "source": [
        "X_train, X_test, y_train, y_test = model_selection.train_test_split(na_drop, y, test_size=0.20)\n",
        "X_train.head()"
      ],
      "execution_count": 4,
      "outputs": [
        {
          "output_type": "execute_result",
          "data": {
            "text/html": [
              "<div>\n",
              "<style scoped>\n",
              "    .dataframe tbody tr th:only-of-type {\n",
              "        vertical-align: middle;\n",
              "    }\n",
              "\n",
              "    .dataframe tbody tr th {\n",
              "        vertical-align: top;\n",
              "    }\n",
              "\n",
              "    .dataframe thead th {\n",
              "        text-align: right;\n",
              "    }\n",
              "</style>\n",
              "<table border=\"1\" class=\"dataframe\">\n",
              "  <thead>\n",
              "    <tr style=\"text-align: right;\">\n",
              "      <th></th>\n",
              "      <th>radius_mean</th>\n",
              "      <th>texture_mean</th>\n",
              "      <th>perimeter_mean</th>\n",
              "      <th>area_mean</th>\n",
              "      <th>smoothness_mean</th>\n",
              "      <th>compactness_mean</th>\n",
              "      <th>concavity_mean</th>\n",
              "      <th>concave points_mean</th>\n",
              "      <th>symmetry_mean</th>\n",
              "      <th>fractal_dimension_mean</th>\n",
              "      <th>radius_se</th>\n",
              "      <th>texture_se</th>\n",
              "      <th>perimeter_se</th>\n",
              "      <th>area_se</th>\n",
              "      <th>smoothness_se</th>\n",
              "      <th>compactness_se</th>\n",
              "      <th>concavity_se</th>\n",
              "      <th>concave points_se</th>\n",
              "      <th>symmetry_se</th>\n",
              "      <th>fractal_dimension_se</th>\n",
              "      <th>radius_worst</th>\n",
              "      <th>texture_worst</th>\n",
              "      <th>perimeter_worst</th>\n",
              "      <th>area_worst</th>\n",
              "      <th>smoothness_worst</th>\n",
              "      <th>compactness_worst</th>\n",
              "      <th>concavity_worst</th>\n",
              "      <th>concave points_worst</th>\n",
              "      <th>symmetry_worst</th>\n",
              "      <th>fractal_dimension_worst</th>\n",
              "    </tr>\n",
              "  </thead>\n",
              "  <tbody>\n",
              "    <tr>\n",
              "      <th>88</th>\n",
              "      <td>12.36</td>\n",
              "      <td>21.80</td>\n",
              "      <td>79.78</td>\n",
              "      <td>466.1</td>\n",
              "      <td>0.08772</td>\n",
              "      <td>0.09445</td>\n",
              "      <td>0.06015</td>\n",
              "      <td>0.03745</td>\n",
              "      <td>0.1930</td>\n",
              "      <td>0.06404</td>\n",
              "      <td>0.2978</td>\n",
              "      <td>1.5020</td>\n",
              "      <td>2.203</td>\n",
              "      <td>20.95</td>\n",
              "      <td>0.007112</td>\n",
              "      <td>0.024930</td>\n",
              "      <td>0.027030</td>\n",
              "      <td>0.012930</td>\n",
              "      <td>0.01958</td>\n",
              "      <td>0.004463</td>\n",
              "      <td>13.83</td>\n",
              "      <td>30.50</td>\n",
              "      <td>91.46</td>\n",
              "      <td>574.7</td>\n",
              "      <td>0.1304</td>\n",
              "      <td>0.24630</td>\n",
              "      <td>0.24340</td>\n",
              "      <td>0.12050</td>\n",
              "      <td>0.2972</td>\n",
              "      <td>0.09261</td>\n",
              "    </tr>\n",
              "    <tr>\n",
              "      <th>311</th>\n",
              "      <td>14.61</td>\n",
              "      <td>15.69</td>\n",
              "      <td>92.68</td>\n",
              "      <td>664.9</td>\n",
              "      <td>0.07618</td>\n",
              "      <td>0.03515</td>\n",
              "      <td>0.01447</td>\n",
              "      <td>0.01877</td>\n",
              "      <td>0.1632</td>\n",
              "      <td>0.05255</td>\n",
              "      <td>0.3160</td>\n",
              "      <td>0.9115</td>\n",
              "      <td>1.954</td>\n",
              "      <td>28.90</td>\n",
              "      <td>0.005031</td>\n",
              "      <td>0.006021</td>\n",
              "      <td>0.005325</td>\n",
              "      <td>0.006324</td>\n",
              "      <td>0.01494</td>\n",
              "      <td>0.000895</td>\n",
              "      <td>16.46</td>\n",
              "      <td>21.75</td>\n",
              "      <td>103.70</td>\n",
              "      <td>840.8</td>\n",
              "      <td>0.1011</td>\n",
              "      <td>0.07087</td>\n",
              "      <td>0.04746</td>\n",
              "      <td>0.05813</td>\n",
              "      <td>0.2530</td>\n",
              "      <td>0.05695</td>\n",
              "    </tr>\n",
              "    <tr>\n",
              "      <th>264</th>\n",
              "      <td>17.19</td>\n",
              "      <td>22.07</td>\n",
              "      <td>111.60</td>\n",
              "      <td>928.3</td>\n",
              "      <td>0.09726</td>\n",
              "      <td>0.08995</td>\n",
              "      <td>0.09061</td>\n",
              "      <td>0.06527</td>\n",
              "      <td>0.1867</td>\n",
              "      <td>0.05580</td>\n",
              "      <td>0.4203</td>\n",
              "      <td>0.7383</td>\n",
              "      <td>2.819</td>\n",
              "      <td>45.42</td>\n",
              "      <td>0.004493</td>\n",
              "      <td>0.012060</td>\n",
              "      <td>0.020480</td>\n",
              "      <td>0.009875</td>\n",
              "      <td>0.01144</td>\n",
              "      <td>0.001575</td>\n",
              "      <td>21.58</td>\n",
              "      <td>29.33</td>\n",
              "      <td>140.50</td>\n",
              "      <td>1436.0</td>\n",
              "      <td>0.1558</td>\n",
              "      <td>0.25670</td>\n",
              "      <td>0.38890</td>\n",
              "      <td>0.19840</td>\n",
              "      <td>0.3216</td>\n",
              "      <td>0.07570</td>\n",
              "    </tr>\n",
              "    <tr>\n",
              "      <th>225</th>\n",
              "      <td>14.34</td>\n",
              "      <td>13.47</td>\n",
              "      <td>92.51</td>\n",
              "      <td>641.2</td>\n",
              "      <td>0.09906</td>\n",
              "      <td>0.07624</td>\n",
              "      <td>0.05724</td>\n",
              "      <td>0.04603</td>\n",
              "      <td>0.2075</td>\n",
              "      <td>0.05448</td>\n",
              "      <td>0.5220</td>\n",
              "      <td>0.8121</td>\n",
              "      <td>3.763</td>\n",
              "      <td>48.29</td>\n",
              "      <td>0.007089</td>\n",
              "      <td>0.014280</td>\n",
              "      <td>0.023600</td>\n",
              "      <td>0.012860</td>\n",
              "      <td>0.02266</td>\n",
              "      <td>0.001463</td>\n",
              "      <td>16.77</td>\n",
              "      <td>16.90</td>\n",
              "      <td>110.40</td>\n",
              "      <td>873.2</td>\n",
              "      <td>0.1297</td>\n",
              "      <td>0.15250</td>\n",
              "      <td>0.16320</td>\n",
              "      <td>0.10870</td>\n",
              "      <td>0.3062</td>\n",
              "      <td>0.06072</td>\n",
              "    </tr>\n",
              "    <tr>\n",
              "      <th>186</th>\n",
              "      <td>18.31</td>\n",
              "      <td>18.58</td>\n",
              "      <td>118.60</td>\n",
              "      <td>1041.0</td>\n",
              "      <td>0.08588</td>\n",
              "      <td>0.08468</td>\n",
              "      <td>0.08169</td>\n",
              "      <td>0.05814</td>\n",
              "      <td>0.1621</td>\n",
              "      <td>0.05425</td>\n",
              "      <td>0.2577</td>\n",
              "      <td>0.4757</td>\n",
              "      <td>1.817</td>\n",
              "      <td>28.92</td>\n",
              "      <td>0.002866</td>\n",
              "      <td>0.009181</td>\n",
              "      <td>0.014120</td>\n",
              "      <td>0.006719</td>\n",
              "      <td>0.01069</td>\n",
              "      <td>0.001087</td>\n",
              "      <td>21.31</td>\n",
              "      <td>26.36</td>\n",
              "      <td>139.20</td>\n",
              "      <td>1410.0</td>\n",
              "      <td>0.1234</td>\n",
              "      <td>0.24450</td>\n",
              "      <td>0.35380</td>\n",
              "      <td>0.15710</td>\n",
              "      <td>0.3206</td>\n",
              "      <td>0.06938</td>\n",
              "    </tr>\n",
              "  </tbody>\n",
              "</table>\n",
              "</div>"
            ],
            "text/plain": [
              "     radius_mean  texture_mean  ...  symmetry_worst  fractal_dimension_worst\n",
              "88         12.36         21.80  ...          0.2972                  0.09261\n",
              "311        14.61         15.69  ...          0.2530                  0.05695\n",
              "264        17.19         22.07  ...          0.3216                  0.07570\n",
              "225        14.34         13.47  ...          0.3062                  0.06072\n",
              "186        18.31         18.58  ...          0.3206                  0.06938\n",
              "\n",
              "[5 rows x 30 columns]"
            ]
          },
          "metadata": {
            "tags": []
          },
          "execution_count": 4
        }
      ]
    },
    {
      "cell_type": "code",
      "metadata": {
        "id": "UXWuAh5Tn8SR",
        "colab_type": "code",
        "colab": {}
      },
      "source": [
        "dataset_train = tf.data.Dataset.from_tensor_slices((X_train.values, y_train.values))\n",
        "dataset_eval = tf.data.Dataset.from_tensor_slices((X_test.values, y_test.values))\n",
        "train_dataset = dataset_train.shuffle(len(X_train)).batch(1)\n",
        "test_dataset = dataset_eval.batch(1)"
      ],
      "execution_count": 9,
      "outputs": []
    },
    {
      "cell_type": "code",
      "metadata": {
        "id": "w9-oG2QloMqt",
        "colab_type": "code",
        "colab": {}
      },
      "source": [
        "model = keras.Sequential([\n",
        "    keras.layers.Dense(14, input_shape=(30,), activation='relu'),\n",
        "    keras.layers.Dense(1, activation='sigmoid')\n",
        "])"
      ],
      "execution_count": 10,
      "outputs": []
    },
    {
      "cell_type": "code",
      "metadata": {
        "id": "CX9HGwbooOzq",
        "colab_type": "code",
        "colab": {
          "base_uri": "https://localhost:8080/",
          "height": 1000
        },
        "outputId": "010df012-f7b1-460b-a496-301d96adfc77"
      },
      "source": [
        "model.compile(\n",
        "    optimizer='adam',\n",
        "    loss=tf.keras.losses.BinaryCrossentropy(),\n",
        "    metrics=['accuracy'])\n",
        "model.fit(train_dataset, epochs=30)"
      ],
      "execution_count": 11,
      "outputs": [
        {
          "output_type": "stream",
          "text": [
            "Epoch 1/30\n",
            "455/455 [==============================] - 0s 1ms/step - loss: 2.5444 - accuracy: 0.8286\n",
            "Epoch 2/30\n",
            "455/455 [==============================] - 0s 1ms/step - loss: 1.9089 - accuracy: 0.8747\n",
            "Epoch 3/30\n",
            "455/455 [==============================] - 0s 986us/step - loss: 1.7760 - accuracy: 0.8813\n",
            "Epoch 4/30\n",
            "455/455 [==============================] - 0s 1ms/step - loss: 1.4671 - accuracy: 0.8879\n",
            "Epoch 5/30\n",
            "455/455 [==============================] - 0s 962us/step - loss: 1.9171 - accuracy: 0.8813\n",
            "Epoch 6/30\n",
            "455/455 [==============================] - 0s 978us/step - loss: 1.4118 - accuracy: 0.9011\n",
            "Epoch 7/30\n",
            "455/455 [==============================] - 0s 1ms/step - loss: 1.7276 - accuracy: 0.8747\n",
            "Epoch 8/30\n",
            "455/455 [==============================] - 0s 1ms/step - loss: 1.2928 - accuracy: 0.9099\n",
            "Epoch 9/30\n",
            "455/455 [==============================] - 0s 995us/step - loss: 1.4985 - accuracy: 0.8923\n",
            "Epoch 10/30\n",
            "455/455 [==============================] - 0s 991us/step - loss: 1.4856 - accuracy: 0.8923\n",
            "Epoch 11/30\n",
            "455/455 [==============================] - 0s 993us/step - loss: 1.0624 - accuracy: 0.8967\n",
            "Epoch 12/30\n",
            "455/455 [==============================] - 0s 985us/step - loss: 1.3613 - accuracy: 0.8967\n",
            "Epoch 13/30\n",
            "455/455 [==============================] - 0s 1ms/step - loss: 1.3062 - accuracy: 0.8901\n",
            "Epoch 14/30\n",
            "455/455 [==============================] - 0s 1ms/step - loss: 1.0146 - accuracy: 0.8901\n",
            "Epoch 15/30\n",
            "455/455 [==============================] - 0s 1ms/step - loss: 0.9941 - accuracy: 0.9055\n",
            "Epoch 16/30\n",
            "455/455 [==============================] - 0s 983us/step - loss: 1.0236 - accuracy: 0.8945\n",
            "Epoch 17/30\n",
            "455/455 [==============================] - 0s 996us/step - loss: 0.8441 - accuracy: 0.9121\n",
            "Epoch 18/30\n",
            "455/455 [==============================] - 0s 1ms/step - loss: 1.1361 - accuracy: 0.8967\n",
            "Epoch 19/30\n",
            "455/455 [==============================] - 0s 1ms/step - loss: 0.9973 - accuracy: 0.8945\n",
            "Epoch 20/30\n",
            "455/455 [==============================] - 0s 987us/step - loss: 0.9374 - accuracy: 0.8945\n",
            "Epoch 21/30\n",
            "455/455 [==============================] - 0s 1ms/step - loss: 0.8195 - accuracy: 0.9011\n",
            "Epoch 22/30\n",
            "455/455 [==============================] - 0s 954us/step - loss: 0.7725 - accuracy: 0.9187\n",
            "Epoch 23/30\n",
            "455/455 [==============================] - 0s 1ms/step - loss: 0.7313 - accuracy: 0.9165\n",
            "Epoch 24/30\n",
            "455/455 [==============================] - 0s 1ms/step - loss: 0.9401 - accuracy: 0.8945\n",
            "Epoch 25/30\n",
            "455/455 [==============================] - 0s 1ms/step - loss: 0.7691 - accuracy: 0.9033\n",
            "Epoch 26/30\n",
            "455/455 [==============================] - 0s 1ms/step - loss: 0.7147 - accuracy: 0.9099\n",
            "Epoch 27/30\n",
            "455/455 [==============================] - 0s 1ms/step - loss: 0.8677 - accuracy: 0.9033\n",
            "Epoch 28/30\n",
            "455/455 [==============================] - 0s 1ms/step - loss: 0.7179 - accuracy: 0.9011\n",
            "Epoch 29/30\n",
            "455/455 [==============================] - 0s 1ms/step - loss: 0.6012 - accuracy: 0.9055\n",
            "Epoch 30/30\n",
            "455/455 [==============================] - 1s 1ms/step - loss: 0.5708 - accuracy: 0.9121\n"
          ],
          "name": "stdout"
        },
        {
          "output_type": "execute_result",
          "data": {
            "text/plain": [
              "<tensorflow.python.keras.callbacks.History at 0x7fb08a021550>"
            ]
          },
          "metadata": {
            "tags": []
          },
          "execution_count": 11
        }
      ]
    },
    {
      "cell_type": "code",
      "metadata": {
        "id": "TpTam2LlBv1t",
        "colab_type": "code",
        "colab": {
          "base_uri": "https://localhost:8080/",
          "height": 68
        },
        "outputId": "9c6b39d7-2eea-41f7-aa6c-03fd5b964ee1"
      },
      "source": [
        "test_loss, test_acc = model.evaluate(test_dataset,  verbose=2)\n",
        "\n",
        "print('\\nTest accuracy:', test_acc)"
      ],
      "execution_count": 12,
      "outputs": [
        {
          "output_type": "stream",
          "text": [
            "114/114 - 0s - loss: 0.6619 - accuracy: 0.9035\n",
            "\n",
            "Test accuracy: 0.9035087823867798\n"
          ],
          "name": "stdout"
        }
      ]
    }
  ]
}